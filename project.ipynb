import pandas as pd
import numpy as np
from sklearn.model_selection import train_test_split
from sklearn.linear_model import LinearRegression
from sklearn.metrics import mean_squared_error, r2_score
import requests
from io import StringIO

# Load the dataset from the URL
url = 'https://github.com/YBIFoundation/Dataset/raw/main/Admission%20Chance.csv'
response = requests.get(url)

# Read the content of the CSV file from the response
csv_data = StringIO(response.text)

# Read the dataset into a pandas DataFrame
df = pd.read_csv(csv_data)

# Define the features (X) and target variable (y)
X = df[['GRE Score', 'TOEFL Score', 'University Rating', 'SOP', 'LOR ', 'CGPA', 'Research']]
y = df['Chance of Admit']

# Split the data into training and testing sets (80% train, 20% test)
X_train, X_test, y_train, y_test = train_test_split(X, y, test_size=0.2, random_state=42)

# Create a Linear Regression model
model = LinearRegression()

# Train the model on the training data
model.fit(X_train, y_train)

# Make predictions on the test data
y_pred = model.predict(X_test)

# Evaluate the model
mse = mean_squared_error(y_test, y_pred)
r2 = r2_score(y_test, y_pred)

# Print the model's performance metrics
print(f"Mean Squared Error: {mse:.2f}")
print(f"R-squared (Coefficient of determination): {r2:.2f}")
